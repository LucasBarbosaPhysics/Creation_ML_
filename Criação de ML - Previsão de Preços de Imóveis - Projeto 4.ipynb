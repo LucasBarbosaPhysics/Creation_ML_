{
 "cells": [
  {
   "cell_type": "markdown",
   "id": "4fb11e6f",
   "metadata": {},
   "source": [
    "# Análise de Dados - Previsão de Preços de Imóveis "
   ]
  },
  {
   "cell_type": "markdown",
   "id": "11c3a186",
   "metadata": {},
   "source": [
    "## 1 Manipulação dos dados e tratamento de valores missing"
   ]
  },
  {
   "cell_type": "code",
   "execution_count": 176,
   "id": "e7be59e3",
   "metadata": {},
   "outputs": [],
   "source": [
    "# Importação das bibliotecas\n",
    "\n",
    "import pandas as pd\n",
    "import numpy as np\n",
    "import matplotlib.pyplot as plt\n",
    "import seaborn as sns\n",
    "%matplotlib inline"
   ]
  },
  {
   "cell_type": "code",
   "execution_count": 3,
   "id": "336aa689",
   "metadata": {},
   "outputs": [],
   "source": [
    "# read para ler os arquivo\n",
    "\n",
    "df = pd.read_csv('Real estate.csv')"
   ]
  },
  {
   "cell_type": "code",
   "execution_count": 4,
   "id": "ae1d9092",
   "metadata": {},
   "outputs": [
    {
     "data": {
      "text/html": [
       "<div>\n",
       "<style scoped>\n",
       "    .dataframe tbody tr th:only-of-type {\n",
       "        vertical-align: middle;\n",
       "    }\n",
       "\n",
       "    .dataframe tbody tr th {\n",
       "        vertical-align: top;\n",
       "    }\n",
       "\n",
       "    .dataframe thead th {\n",
       "        text-align: right;\n",
       "    }\n",
       "</style>\n",
       "<table border=\"1\" class=\"dataframe\">\n",
       "  <thead>\n",
       "    <tr style=\"text-align: right;\">\n",
       "      <th></th>\n",
       "      <th>No</th>\n",
       "      <th>X1 transaction date</th>\n",
       "      <th>X2 house age</th>\n",
       "      <th>X3 distance to the nearest MRT station</th>\n",
       "      <th>X4 number of convenience stores</th>\n",
       "      <th>X5 latitude</th>\n",
       "      <th>X6 longitude</th>\n",
       "      <th>Y house price of unit area</th>\n",
       "    </tr>\n",
       "  </thead>\n",
       "  <tbody>\n",
       "    <tr>\n",
       "      <th>0</th>\n",
       "      <td>1</td>\n",
       "      <td>2012.917</td>\n",
       "      <td>32.0</td>\n",
       "      <td>84.87882</td>\n",
       "      <td>10</td>\n",
       "      <td>24.98298</td>\n",
       "      <td>121.54024</td>\n",
       "      <td>37.9</td>\n",
       "    </tr>\n",
       "    <tr>\n",
       "      <th>1</th>\n",
       "      <td>2</td>\n",
       "      <td>2012.917</td>\n",
       "      <td>19.5</td>\n",
       "      <td>306.59470</td>\n",
       "      <td>9</td>\n",
       "      <td>24.98034</td>\n",
       "      <td>121.53951</td>\n",
       "      <td>42.2</td>\n",
       "    </tr>\n",
       "    <tr>\n",
       "      <th>2</th>\n",
       "      <td>3</td>\n",
       "      <td>2013.583</td>\n",
       "      <td>13.3</td>\n",
       "      <td>561.98450</td>\n",
       "      <td>5</td>\n",
       "      <td>24.98746</td>\n",
       "      <td>121.54391</td>\n",
       "      <td>47.3</td>\n",
       "    </tr>\n",
       "    <tr>\n",
       "      <th>3</th>\n",
       "      <td>4</td>\n",
       "      <td>2013.500</td>\n",
       "      <td>13.3</td>\n",
       "      <td>561.98450</td>\n",
       "      <td>5</td>\n",
       "      <td>24.98746</td>\n",
       "      <td>121.54391</td>\n",
       "      <td>54.8</td>\n",
       "    </tr>\n",
       "    <tr>\n",
       "      <th>4</th>\n",
       "      <td>5</td>\n",
       "      <td>2012.833</td>\n",
       "      <td>5.0</td>\n",
       "      <td>390.56840</td>\n",
       "      <td>5</td>\n",
       "      <td>24.97937</td>\n",
       "      <td>121.54245</td>\n",
       "      <td>43.1</td>\n",
       "    </tr>\n",
       "  </tbody>\n",
       "</table>\n",
       "</div>"
      ],
      "text/plain": [
       "   No  X1 transaction date  X2 house age  \\\n",
       "0   1             2012.917          32.0   \n",
       "1   2             2012.917          19.5   \n",
       "2   3             2013.583          13.3   \n",
       "3   4             2013.500          13.3   \n",
       "4   5             2012.833           5.0   \n",
       "\n",
       "   X3 distance to the nearest MRT station  X4 number of convenience stores  \\\n",
       "0                                84.87882                               10   \n",
       "1                               306.59470                                9   \n",
       "2                               561.98450                                5   \n",
       "3                               561.98450                                5   \n",
       "4                               390.56840                                5   \n",
       "\n",
       "   X5 latitude  X6 longitude  Y house price of unit area  \n",
       "0     24.98298     121.54024                        37.9  \n",
       "1     24.98034     121.53951                        42.2  \n",
       "2     24.98746     121.54391                        47.3  \n",
       "3     24.98746     121.54391                        54.8  \n",
       "4     24.97937     121.54245                        43.1  "
      ]
     },
     "execution_count": 4,
     "metadata": {},
     "output_type": "execute_result"
    }
   ],
   "source": [
    "# head para abrir o arquivo\n",
    "df.head()"
   ]
  },
  {
   "cell_type": "code",
   "execution_count": 5,
   "id": "ea82613d",
   "metadata": {},
   "outputs": [],
   "source": [
    "# Com base no dataframe observado, percebe-se que as colunas estão escritas em inglês. Para análise prática, vamos converter\n",
    "# para PT-BR utilizando a função rename\n",
    "\n",
    "df = df.rename(columns={'X1 transaction date': 'Data de transação',\n",
    "                        'X2 house age':'Idade da casa',\n",
    "                        'X3 distance to the nearest MRT station':'Distância até a estação MRT mais próxima' ,\n",
    "                        'X4 number of convenience stores': 'Número de lojas de conveniência',\n",
    "                        'X5 latitude': 'Latitude',\n",
    "                        'X6 longitude': 'Longitude',\n",
    "                         'Y house price of unit area': 'Preço da casa da unidade de área'})"
   ]
  },
  {
   "cell_type": "code",
   "execution_count": 6,
   "id": "cb4aa891",
   "metadata": {},
   "outputs": [
    {
     "data": {
      "text/html": [
       "<div>\n",
       "<style scoped>\n",
       "    .dataframe tbody tr th:only-of-type {\n",
       "        vertical-align: middle;\n",
       "    }\n",
       "\n",
       "    .dataframe tbody tr th {\n",
       "        vertical-align: top;\n",
       "    }\n",
       "\n",
       "    .dataframe thead th {\n",
       "        text-align: right;\n",
       "    }\n",
       "</style>\n",
       "<table border=\"1\" class=\"dataframe\">\n",
       "  <thead>\n",
       "    <tr style=\"text-align: right;\">\n",
       "      <th></th>\n",
       "      <th>No</th>\n",
       "      <th>Data de transação</th>\n",
       "      <th>Idade da casa</th>\n",
       "      <th>Distância até a estação MRT mais próxima</th>\n",
       "      <th>Número de lojas de conveniência</th>\n",
       "      <th>Latitude</th>\n",
       "      <th>Longitude</th>\n",
       "      <th>Preço da casa da unidade de área</th>\n",
       "    </tr>\n",
       "  </thead>\n",
       "  <tbody>\n",
       "    <tr>\n",
       "      <th>0</th>\n",
       "      <td>1</td>\n",
       "      <td>2012.917</td>\n",
       "      <td>32.0</td>\n",
       "      <td>84.87882</td>\n",
       "      <td>10</td>\n",
       "      <td>24.98298</td>\n",
       "      <td>121.54024</td>\n",
       "      <td>37.9</td>\n",
       "    </tr>\n",
       "    <tr>\n",
       "      <th>1</th>\n",
       "      <td>2</td>\n",
       "      <td>2012.917</td>\n",
       "      <td>19.5</td>\n",
       "      <td>306.59470</td>\n",
       "      <td>9</td>\n",
       "      <td>24.98034</td>\n",
       "      <td>121.53951</td>\n",
       "      <td>42.2</td>\n",
       "    </tr>\n",
       "    <tr>\n",
       "      <th>2</th>\n",
       "      <td>3</td>\n",
       "      <td>2013.583</td>\n",
       "      <td>13.3</td>\n",
       "      <td>561.98450</td>\n",
       "      <td>5</td>\n",
       "      <td>24.98746</td>\n",
       "      <td>121.54391</td>\n",
       "      <td>47.3</td>\n",
       "    </tr>\n",
       "    <tr>\n",
       "      <th>3</th>\n",
       "      <td>4</td>\n",
       "      <td>2013.500</td>\n",
       "      <td>13.3</td>\n",
       "      <td>561.98450</td>\n",
       "      <td>5</td>\n",
       "      <td>24.98746</td>\n",
       "      <td>121.54391</td>\n",
       "      <td>54.8</td>\n",
       "    </tr>\n",
       "    <tr>\n",
       "      <th>4</th>\n",
       "      <td>5</td>\n",
       "      <td>2012.833</td>\n",
       "      <td>5.0</td>\n",
       "      <td>390.56840</td>\n",
       "      <td>5</td>\n",
       "      <td>24.97937</td>\n",
       "      <td>121.54245</td>\n",
       "      <td>43.1</td>\n",
       "    </tr>\n",
       "  </tbody>\n",
       "</table>\n",
       "</div>"
      ],
      "text/plain": [
       "   No  Data de transação  Idade da casa  \\\n",
       "0   1           2012.917           32.0   \n",
       "1   2           2012.917           19.5   \n",
       "2   3           2013.583           13.3   \n",
       "3   4           2013.500           13.3   \n",
       "4   5           2012.833            5.0   \n",
       "\n",
       "   Distância até a estação MRT mais próxima  Número de lojas de conveniência  \\\n",
       "0                                  84.87882                               10   \n",
       "1                                 306.59470                                9   \n",
       "2                                 561.98450                                5   \n",
       "3                                 561.98450                                5   \n",
       "4                                 390.56840                                5   \n",
       "\n",
       "   Latitude  Longitude  Preço da casa da unidade de área  \n",
       "0  24.98298  121.54024                              37.9  \n",
       "1  24.98034  121.53951                              42.2  \n",
       "2  24.98746  121.54391                              47.3  \n",
       "3  24.98746  121.54391                              54.8  \n",
       "4  24.97937  121.54245                              43.1  "
      ]
     },
     "execution_count": 6,
     "metadata": {},
     "output_type": "execute_result"
    }
   ],
   "source": [
    "# Vamos observar o resultado:\n",
    "\n",
    "df.head()"
   ]
  },
  {
   "cell_type": "code",
   "execution_count": 7,
   "id": "5b0f00fd",
   "metadata": {},
   "outputs": [
    {
     "data": {
      "text/plain": [
       "(414, 8)"
      ]
     },
     "execution_count": 7,
     "metadata": {},
     "output_type": "execute_result"
    }
   ],
   "source": [
    "# Agora podemos obter algumas informações como a quantidade de linhas e colunas respectivamente com a função abaixo:\n",
    "\n",
    "df.shape"
   ]
  },
  {
   "cell_type": "code",
   "execution_count": 8,
   "id": "16ffc406",
   "metadata": {},
   "outputs": [
    {
     "name": "stdout",
     "output_type": "stream",
     "text": [
      "<class 'pandas.core.frame.DataFrame'>\n",
      "RangeIndex: 414 entries, 0 to 413\n",
      "Data columns (total 8 columns):\n",
      " #   Column                                    Non-Null Count  Dtype  \n",
      "---  ------                                    --------------  -----  \n",
      " 0   No                                        414 non-null    int64  \n",
      " 1   Data de transação                         414 non-null    float64\n",
      " 2   Idade da casa                             414 non-null    float64\n",
      " 3   Distância até a estação MRT mais próxima  414 non-null    float64\n",
      " 4   Número de lojas de conveniência           414 non-null    int64  \n",
      " 5   Latitude                                  414 non-null    float64\n",
      " 6   Longitude                                 414 non-null    float64\n",
      " 7   Preço da casa da unidade de área          414 non-null    float64\n",
      "dtypes: float64(6), int64(2)\n",
      "memory usage: 26.0 KB\n"
     ]
    }
   ],
   "source": [
    "# Podemos obter informações sobre dtype\n",
    "df.info()"
   ]
  },
  {
   "cell_type": "code",
   "execution_count": 9,
   "id": "f991314a",
   "metadata": {},
   "outputs": [
    {
     "data": {
      "text/html": [
       "<div>\n",
       "<style scoped>\n",
       "    .dataframe tbody tr th:only-of-type {\n",
       "        vertical-align: middle;\n",
       "    }\n",
       "\n",
       "    .dataframe tbody tr th {\n",
       "        vertical-align: top;\n",
       "    }\n",
       "\n",
       "    .dataframe thead th {\n",
       "        text-align: right;\n",
       "    }\n",
       "</style>\n",
       "<table border=\"1\" class=\"dataframe\">\n",
       "  <thead>\n",
       "    <tr style=\"text-align: right;\">\n",
       "      <th></th>\n",
       "      <th>No</th>\n",
       "      <th>Data de transação</th>\n",
       "      <th>Idade da casa</th>\n",
       "      <th>Distância até a estação MRT mais próxima</th>\n",
       "      <th>Número de lojas de conveniência</th>\n",
       "      <th>Latitude</th>\n",
       "      <th>Longitude</th>\n",
       "      <th>Preço da casa da unidade de área</th>\n",
       "    </tr>\n",
       "  </thead>\n",
       "  <tbody>\n",
       "    <tr>\n",
       "      <th>count</th>\n",
       "      <td>414.000000</td>\n",
       "      <td>414.000000</td>\n",
       "      <td>414.000000</td>\n",
       "      <td>414.000000</td>\n",
       "      <td>414.000000</td>\n",
       "      <td>414.000000</td>\n",
       "      <td>414.000000</td>\n",
       "      <td>414.000000</td>\n",
       "    </tr>\n",
       "    <tr>\n",
       "      <th>mean</th>\n",
       "      <td>207.500000</td>\n",
       "      <td>2013.148971</td>\n",
       "      <td>17.712560</td>\n",
       "      <td>1083.885689</td>\n",
       "      <td>4.094203</td>\n",
       "      <td>24.969030</td>\n",
       "      <td>121.533361</td>\n",
       "      <td>37.980193</td>\n",
       "    </tr>\n",
       "    <tr>\n",
       "      <th>std</th>\n",
       "      <td>119.655756</td>\n",
       "      <td>0.281967</td>\n",
       "      <td>11.392485</td>\n",
       "      <td>1262.109595</td>\n",
       "      <td>2.945562</td>\n",
       "      <td>0.012410</td>\n",
       "      <td>0.015347</td>\n",
       "      <td>13.606488</td>\n",
       "    </tr>\n",
       "    <tr>\n",
       "      <th>min</th>\n",
       "      <td>1.000000</td>\n",
       "      <td>2012.667000</td>\n",
       "      <td>0.000000</td>\n",
       "      <td>23.382840</td>\n",
       "      <td>0.000000</td>\n",
       "      <td>24.932070</td>\n",
       "      <td>121.473530</td>\n",
       "      <td>7.600000</td>\n",
       "    </tr>\n",
       "    <tr>\n",
       "      <th>25%</th>\n",
       "      <td>104.250000</td>\n",
       "      <td>2012.917000</td>\n",
       "      <td>9.025000</td>\n",
       "      <td>289.324800</td>\n",
       "      <td>1.000000</td>\n",
       "      <td>24.963000</td>\n",
       "      <td>121.528085</td>\n",
       "      <td>27.700000</td>\n",
       "    </tr>\n",
       "    <tr>\n",
       "      <th>50%</th>\n",
       "      <td>207.500000</td>\n",
       "      <td>2013.167000</td>\n",
       "      <td>16.100000</td>\n",
       "      <td>492.231300</td>\n",
       "      <td>4.000000</td>\n",
       "      <td>24.971100</td>\n",
       "      <td>121.538630</td>\n",
       "      <td>38.450000</td>\n",
       "    </tr>\n",
       "    <tr>\n",
       "      <th>75%</th>\n",
       "      <td>310.750000</td>\n",
       "      <td>2013.417000</td>\n",
       "      <td>28.150000</td>\n",
       "      <td>1454.279000</td>\n",
       "      <td>6.000000</td>\n",
       "      <td>24.977455</td>\n",
       "      <td>121.543305</td>\n",
       "      <td>46.600000</td>\n",
       "    </tr>\n",
       "    <tr>\n",
       "      <th>max</th>\n",
       "      <td>414.000000</td>\n",
       "      <td>2013.583000</td>\n",
       "      <td>43.800000</td>\n",
       "      <td>6488.021000</td>\n",
       "      <td>10.000000</td>\n",
       "      <td>25.014590</td>\n",
       "      <td>121.566270</td>\n",
       "      <td>117.500000</td>\n",
       "    </tr>\n",
       "  </tbody>\n",
       "</table>\n",
       "</div>"
      ],
      "text/plain": [
       "               No  Data de transação  Idade da casa  \\\n",
       "count  414.000000         414.000000     414.000000   \n",
       "mean   207.500000        2013.148971      17.712560   \n",
       "std    119.655756           0.281967      11.392485   \n",
       "min      1.000000        2012.667000       0.000000   \n",
       "25%    104.250000        2012.917000       9.025000   \n",
       "50%    207.500000        2013.167000      16.100000   \n",
       "75%    310.750000        2013.417000      28.150000   \n",
       "max    414.000000        2013.583000      43.800000   \n",
       "\n",
       "       Distância até a estação MRT mais próxima  \\\n",
       "count                                414.000000   \n",
       "mean                                1083.885689   \n",
       "std                                 1262.109595   \n",
       "min                                   23.382840   \n",
       "25%                                  289.324800   \n",
       "50%                                  492.231300   \n",
       "75%                                 1454.279000   \n",
       "max                                 6488.021000   \n",
       "\n",
       "       Número de lojas de conveniência    Latitude   Longitude  \\\n",
       "count                       414.000000  414.000000  414.000000   \n",
       "mean                          4.094203   24.969030  121.533361   \n",
       "std                           2.945562    0.012410    0.015347   \n",
       "min                           0.000000   24.932070  121.473530   \n",
       "25%                           1.000000   24.963000  121.528085   \n",
       "50%                           4.000000   24.971100  121.538630   \n",
       "75%                           6.000000   24.977455  121.543305   \n",
       "max                          10.000000   25.014590  121.566270   \n",
       "\n",
       "       Preço da casa da unidade de área  \n",
       "count                        414.000000  \n",
       "mean                          37.980193  \n",
       "std                           13.606488  \n",
       "min                            7.600000  \n",
       "25%                           27.700000  \n",
       "50%                           38.450000  \n",
       "75%                           46.600000  \n",
       "max                          117.500000  "
      ]
     },
     "execution_count": 9,
     "metadata": {},
     "output_type": "execute_result"
    }
   ],
   "source": [
    "# Tomemos o describe para obter algumas informações estatísticas como a média e o desvio padrão,contagem, máximo e mínimo \n",
    "# dos dados\n",
    "\n",
    "df.describe()"
   ]
  },
  {
   "cell_type": "code",
   "execution_count": 10,
   "id": "e6d49489",
   "metadata": {},
   "outputs": [
    {
     "data": {
      "text/plain": [
       "False"
      ]
     },
     "execution_count": 10,
     "metadata": {},
     "output_type": "execute_result"
    }
   ],
   "source": [
    "# Para este caso, vamos utilizar uma função com o objetivo de veirifcar valores missing ou nulos (NaN - Not a Number)\n",
    "\n",
    "df.isnull().values.any()"
   ]
  },
  {
   "cell_type": "code",
   "execution_count": 11,
   "id": "923d5e46",
   "metadata": {},
   "outputs": [
    {
     "data": {
      "text/html": [
       "<div>\n",
       "<style scoped>\n",
       "    .dataframe tbody tr th:only-of-type {\n",
       "        vertical-align: middle;\n",
       "    }\n",
       "\n",
       "    .dataframe tbody tr th {\n",
       "        vertical-align: top;\n",
       "    }\n",
       "\n",
       "    .dataframe thead th {\n",
       "        text-align: right;\n",
       "    }\n",
       "</style>\n",
       "<table border=\"1\" class=\"dataframe\">\n",
       "  <thead>\n",
       "    <tr style=\"text-align: right;\">\n",
       "      <th></th>\n",
       "      <th>No</th>\n",
       "      <th>Data de transação</th>\n",
       "      <th>Idade da casa</th>\n",
       "      <th>Distância até a estação MRT mais próxima</th>\n",
       "      <th>Número de lojas de conveniência</th>\n",
       "      <th>Latitude</th>\n",
       "      <th>Longitude</th>\n",
       "      <th>Preço da casa da unidade de área</th>\n",
       "    </tr>\n",
       "  </thead>\n",
       "  <tbody>\n",
       "    <tr>\n",
       "      <th>No</th>\n",
       "      <td>1.000000</td>\n",
       "      <td>-0.048658</td>\n",
       "      <td>-0.032808</td>\n",
       "      <td>-0.013573</td>\n",
       "      <td>-0.012699</td>\n",
       "      <td>-0.010110</td>\n",
       "      <td>-0.011059</td>\n",
       "      <td>-0.028587</td>\n",
       "    </tr>\n",
       "    <tr>\n",
       "      <th>Data de transação</th>\n",
       "      <td>-0.048658</td>\n",
       "      <td>1.000000</td>\n",
       "      <td>0.017549</td>\n",
       "      <td>0.060880</td>\n",
       "      <td>0.009635</td>\n",
       "      <td>0.035058</td>\n",
       "      <td>-0.041082</td>\n",
       "      <td>0.087491</td>\n",
       "    </tr>\n",
       "    <tr>\n",
       "      <th>Idade da casa</th>\n",
       "      <td>-0.032808</td>\n",
       "      <td>0.017549</td>\n",
       "      <td>1.000000</td>\n",
       "      <td>0.025622</td>\n",
       "      <td>0.049593</td>\n",
       "      <td>0.054420</td>\n",
       "      <td>-0.048520</td>\n",
       "      <td>-0.210567</td>\n",
       "    </tr>\n",
       "    <tr>\n",
       "      <th>Distância até a estação MRT mais próxima</th>\n",
       "      <td>-0.013573</td>\n",
       "      <td>0.060880</td>\n",
       "      <td>0.025622</td>\n",
       "      <td>1.000000</td>\n",
       "      <td>-0.602519</td>\n",
       "      <td>-0.591067</td>\n",
       "      <td>-0.806317</td>\n",
       "      <td>-0.673613</td>\n",
       "    </tr>\n",
       "    <tr>\n",
       "      <th>Número de lojas de conveniência</th>\n",
       "      <td>-0.012699</td>\n",
       "      <td>0.009635</td>\n",
       "      <td>0.049593</td>\n",
       "      <td>-0.602519</td>\n",
       "      <td>1.000000</td>\n",
       "      <td>0.444143</td>\n",
       "      <td>0.449099</td>\n",
       "      <td>0.571005</td>\n",
       "    </tr>\n",
       "    <tr>\n",
       "      <th>Latitude</th>\n",
       "      <td>-0.010110</td>\n",
       "      <td>0.035058</td>\n",
       "      <td>0.054420</td>\n",
       "      <td>-0.591067</td>\n",
       "      <td>0.444143</td>\n",
       "      <td>1.000000</td>\n",
       "      <td>0.412924</td>\n",
       "      <td>0.546307</td>\n",
       "    </tr>\n",
       "    <tr>\n",
       "      <th>Longitude</th>\n",
       "      <td>-0.011059</td>\n",
       "      <td>-0.041082</td>\n",
       "      <td>-0.048520</td>\n",
       "      <td>-0.806317</td>\n",
       "      <td>0.449099</td>\n",
       "      <td>0.412924</td>\n",
       "      <td>1.000000</td>\n",
       "      <td>0.523287</td>\n",
       "    </tr>\n",
       "    <tr>\n",
       "      <th>Preço da casa da unidade de área</th>\n",
       "      <td>-0.028587</td>\n",
       "      <td>0.087491</td>\n",
       "      <td>-0.210567</td>\n",
       "      <td>-0.673613</td>\n",
       "      <td>0.571005</td>\n",
       "      <td>0.546307</td>\n",
       "      <td>0.523287</td>\n",
       "      <td>1.000000</td>\n",
       "    </tr>\n",
       "  </tbody>\n",
       "</table>\n",
       "</div>"
      ],
      "text/plain": [
       "                                                No  Data de transação  \\\n",
       "No                                        1.000000          -0.048658   \n",
       "Data de transação                        -0.048658           1.000000   \n",
       "Idade da casa                            -0.032808           0.017549   \n",
       "Distância até a estação MRT mais próxima -0.013573           0.060880   \n",
       "Número de lojas de conveniência          -0.012699           0.009635   \n",
       "Latitude                                 -0.010110           0.035058   \n",
       "Longitude                                -0.011059          -0.041082   \n",
       "Preço da casa da unidade de área         -0.028587           0.087491   \n",
       "\n",
       "                                          Idade da casa  \\\n",
       "No                                            -0.032808   \n",
       "Data de transação                              0.017549   \n",
       "Idade da casa                                  1.000000   \n",
       "Distância até a estação MRT mais próxima       0.025622   \n",
       "Número de lojas de conveniência                0.049593   \n",
       "Latitude                                       0.054420   \n",
       "Longitude                                     -0.048520   \n",
       "Preço da casa da unidade de área              -0.210567   \n",
       "\n",
       "                                          Distância até a estação MRT mais próxima  \\\n",
       "No                                                                       -0.013573   \n",
       "Data de transação                                                         0.060880   \n",
       "Idade da casa                                                             0.025622   \n",
       "Distância até a estação MRT mais próxima                                  1.000000   \n",
       "Número de lojas de conveniência                                          -0.602519   \n",
       "Latitude                                                                 -0.591067   \n",
       "Longitude                                                                -0.806317   \n",
       "Preço da casa da unidade de área                                         -0.673613   \n",
       "\n",
       "                                          Número de lojas de conveniência  \\\n",
       "No                                                              -0.012699   \n",
       "Data de transação                                                0.009635   \n",
       "Idade da casa                                                    0.049593   \n",
       "Distância até a estação MRT mais próxima                        -0.602519   \n",
       "Número de lojas de conveniência                                  1.000000   \n",
       "Latitude                                                         0.444143   \n",
       "Longitude                                                        0.449099   \n",
       "Preço da casa da unidade de área                                 0.571005   \n",
       "\n",
       "                                          Latitude  Longitude  \\\n",
       "No                                       -0.010110  -0.011059   \n",
       "Data de transação                         0.035058  -0.041082   \n",
       "Idade da casa                             0.054420  -0.048520   \n",
       "Distância até a estação MRT mais próxima -0.591067  -0.806317   \n",
       "Número de lojas de conveniência           0.444143   0.449099   \n",
       "Latitude                                  1.000000   0.412924   \n",
       "Longitude                                 0.412924   1.000000   \n",
       "Preço da casa da unidade de área          0.546307   0.523287   \n",
       "\n",
       "                                          Preço da casa da unidade de área  \n",
       "No                                                               -0.028587  \n",
       "Data de transação                                                 0.087491  \n",
       "Idade da casa                                                    -0.210567  \n",
       "Distância até a estação MRT mais próxima                         -0.673613  \n",
       "Número de lojas de conveniência                                   0.571005  \n",
       "Latitude                                                          0.546307  \n",
       "Longitude                                                         0.523287  \n",
       "Preço da casa da unidade de área                                  1.000000  "
      ]
     },
     "execution_count": 11,
     "metadata": {},
     "output_type": "execute_result"
    }
   ],
   "source": [
    "# Utilizamos a função corr para verificar a correlação entre as variáveis, de modo que isso não implicar \n",
    "# necessáriamente causalidade\n",
    "\n",
    "df.corr()"
   ]
  },
  {
   "cell_type": "code",
   "execution_count": 12,
   "id": "04bee5e0",
   "metadata": {},
   "outputs": [
    {
     "data": {
      "image/png": "[encoded data removed]",
      "text/plain": [
       "<Figure size 864x576 with 2 Axes>"
      ]
     },
     "metadata": {
      "needs_background": "light"
     },
     "output_type": "display_data"
    }
   ],
   "source": [
    "# Para ficar melhor visível, o plot nos ajudará:\n",
    "# No gráfico de calor, as varíaveis que possuem mais correlação apresentam cor mais forte\n",
    "# Exemplo: Número de lojas de conveniência possui uma boa correlação com Latitude e Longitude de modo que a idade da casa não tem muita relevância.\n",
    "\n",
    "fig, ax = plt.subplots(figsize = (12,8))\n",
    "\n",
    "_ = sns.heatmap(df.corr(), cmap = 'Reds', linewidth = 0.5, annot = True)"
   ]
  },
  {
   "cell_type": "code",
   "execution_count": 13,
   "id": "1b08df9d",
   "metadata": {},
   "outputs": [],
   "source": [
    "# Podemos utilizar o SQL dentro do Pandas também, de modo que as consultas podem ficar mais fáceis. Mas pularemos, nos outros projetos\n",
    "# tenho algumas consultas simples utlizando SQL"
   ]
  },
  {
   "cell_type": "markdown",
   "id": "4cc0716b",
   "metadata": {},
   "source": [
    "## 2 Início da Análise"
   ]
  },
  {
   "cell_type": "code",
   "execution_count": 146,
   "id": "f7faa288",
   "metadata": {},
   "outputs": [],
   "source": [
    "# Para este caso, vamos começar colocar nossos dados para treinar, abaixo vai algumas informações:\n",
    "\n",
    "# Precisamos entender que o ideal é separar nossos dados em treino e teste, de modo 70% dos dados são para treino e 30% são para\n",
    "#teste. Com Isso, iniciaremos:\n",
    "\n",
    "from sklearn.model_selection import train_test_split"
   ]
  },
  {
   "cell_type": "code",
   "execution_count": 177,
   "id": "c0fc746f",
   "metadata": {},
   "outputs": [],
   "source": [
    "# Vamos definir os parâmetros, faz sentido eu querer outra coisa além do Preço da casa da unidade de área?\n",
    "# Logo, teremos:\n",
    "\n",
    "atributos = ['Número de lojas de conveniência', 'Latitude', 'Longitude', 'Idade da casa','Data de transação']\n",
    "atrib_prev = ['Preço da casa da unidade de área']"
   ]
  },
  {
   "cell_type": "code",
   "execution_count": 178,
   "id": "9623ced4",
   "metadata": {},
   "outputs": [],
   "source": [
    "X = df[atributos].values\n",
    "Y = df[atrib_prev].values"
   ]
  },
  {
   "cell_type": "code",
   "execution_count": 179,
   "id": "658a50e5",
   "metadata": {},
   "outputs": [],
   "source": [
    "# Definindo os dados para treino em 30, aproximadamente%\n",
    "split_test_size = 0.3"
   ]
  },
  {
   "cell_type": "code",
   "execution_count": 180,
   "id": "e92ac2e5",
   "metadata": {},
   "outputs": [],
   "source": [
    " X_treino, X_teste, Y_treino, Y_teste = train_test_split(X, Y, test_size = split_test_size, random_state =90)  "
   ]
  },
  {
   "cell_type": "code",
   "execution_count": 181,
   "id": "4e42e8c5",
   "metadata": {},
   "outputs": [
    {
     "name": "stdout",
     "output_type": "stream",
     "text": [
      "69.81% nos dados de treino\n",
      "30.19% nos dados de teste\n"
     ]
    }
   ],
   "source": [
    "print(\"{0:0.2f}% nos dados de treino\".format((len(X_treino)/len(df.index)) * 100))\n",
    "print(\"{0:0.2f}% nos dados de teste\".format((len(X_teste)/len(df.index)) * 100))"
   ]
  },
  {
   "cell_type": "markdown",
   "id": "af05f3f4",
   "metadata": {},
   "source": [
    "####  <font color='Red'>2.1 Aqui temos uma ressalva, é importante perceber que alguns valores podem estar com zeros, de modo isso pode ser relevante quando formos criar os modelos de previsão</font>\n",
    "\n",
    "- Vejamos, o que não pode ser zero nos valores dos atributos abaixo?\n",
    "\n",
    "\n",
    "\n",
    "\n",
    "\n",
    "        - Data de transação, Latitude e Longitude. Logo, teremos:"
   ]
  },
  {
   "cell_type": "code",
   "execution_count": 200,
   "id": "6b3f5b48",
   "metadata": {},
   "outputs": [
    {
     "data": {
      "text/plain": [
       "False"
      ]
     },
     "execution_count": 200,
     "metadata": {},
     "output_type": "execute_result"
    }
   ],
   "source": [
    "# Veficiação dos valores missing ocultos\n",
    "\n",
    "df.isnull().values.any()"
   ]
  },
  {
   "cell_type": "code",
   "execution_count": 201,
   "id": "8130baf6",
   "metadata": {},
   "outputs": [
    {
     "name": "stdout",
     "output_type": "stream",
     "text": [
      "# Linhas no dataframe 414\n",
      "# Linhas missing Data de transação: 0\n",
      "# Linhas missing Latitude: 0\n",
      "# Linhas missing Longitude: 0\n"
     ]
    }
   ],
   "source": [
    "print(\"# Linhas no dataframe {0}\".format(len(df)))\n",
    "print(\"# Linhas missing Data de transação: {0}\".format(len(df.loc[df['Data de transação'] == 0])))\n",
    "print(\"# Linhas missing Latitude: {0}\".format(len(df.loc[df['Latitude'] == 0])))\n",
    "print(\"# Linhas missing Longitude: {0}\".format(len(df.loc[df['Longitude'] == 0])))\n",
    "\n"
   ]
  },
  {
   "cell_type": "markdown",
   "id": "f91a115c",
   "metadata": {},
   "source": [
    "####  <font color='Red'>2.2 Se tivessemos valores ocultos missing, o ideal seria substituir tais valores pela média dos dados, de modo a obter uma menor taxa de erro.</font>\n",
    "\n",
    "\n",
    "#### O código abaixo é justamente para isso, vou deixar comentado."
   ]
  },
  {
   "cell_type": "code",
   "execution_count": 184,
   "id": "6a75ee18",
   "metadata": {},
   "outputs": [],
   "source": [
    "# from sklearn.impute import SimpleImputer\n",
    "\n",
    "# Vamos criar uma variável para substituir os valores missing ocultos, neste caso, os zeros\n",
    "\n",
    "# preenche_0 = SimpleImputer(missing_values = 0, strategy = \"mean\")\n",
    "\n",
    "# Substituindo os valores iguais a zero, pela média dos dados\n",
    "\n",
    "#X_treino = preenche_0.fit_transform(X_treino)\n",
    "\n",
    "#X_teste = preenche_0.fit_transform(X_teste)"
   ]
  },
  {
   "cell_type": "markdown",
   "id": "bac4ae78",
   "metadata": {},
   "source": [
    "## 3 Criação do Modelo Machine Learning (ML)\n",
    "\n",
    "####  <font color='Red'>Utilizaremos o linear regression ou regressão linear por fins práticos</font>"
   ]
  },
  {
   "cell_type": "code",
   "execution_count": 185,
   "id": "8a24c70c",
   "metadata": {},
   "outputs": [],
   "source": [
    "#Importação do sktlearn"
   ]
  },
  {
   "cell_type": "code",
   "execution_count": 186,
   "id": "72ec51ab",
   "metadata": {},
   "outputs": [],
   "source": [
    "from sklearn import linear_model as ln"
   ]
  },
  {
   "cell_type": "code",
   "execution_count": 187,
   "id": "a3ae226b",
   "metadata": {},
   "outputs": [
    {
     "data": {
      "text/plain": [
       "LinearRegression()"
      ]
     },
     "execution_count": 187,
     "metadata": {},
     "output_type": "execute_result"
    }
   ],
   "source": [
    "# Criação do objeto aplicando a função do tipo y = ax + b, onde a:coef.angular e b:coef.linear\n",
    "model_lr = ln.LinearRegression()\n",
    "# Colocando o modelo para treinar, utlizando o data set\n",
    "model_lr.fit(X_treino, Y_treino)"
   ]
  },
  {
   "cell_type": "code",
   "execution_count": 188,
   "id": "8b2da23f",
   "metadata": {},
   "outputs": [],
   "source": [
    "# Fazendo as previsões\n",
    "pred = model_lr.predict(X_teste)"
   ]
  },
  {
   "cell_type": "code",
   "execution_count": 189,
   "id": "b93e8b41",
   "metadata": {},
   "outputs": [
    {
     "data": {
      "text/plain": [
       "array([[44.72543977],\n",
       "       [32.96607894],\n",
       "       [40.00056464],\n",
       "       [16.75025123],\n",
       "       [46.36114493],\n",
       "       [23.18424257],\n",
       "       [40.83273038],\n",
       "       [40.00056464],\n",
       "       [32.44666213],\n",
       "       [49.71259827]])"
      ]
     },
     "execution_count": 189,
     "metadata": {},
     "output_type": "execute_result"
    }
   ],
   "source": [
    "pred[0:10]"
   ]
  },
  {
   "cell_type": "code",
   "execution_count": 191,
   "id": "5a7c068a",
   "metadata": {},
   "outputs": [
    {
     "name": "stdout",
     "output_type": "stream",
     "text": [
      "Exatidão (Accuracy): 0.667\n"
     ]
    }
   ],
   "source": [
    "print(\"Exatidão (Accuracy): {0:.3f}\".format(model_lr.score(X_teste,Y_teste)))"
   ]
  },
  {
   "cell_type": "code",
   "execution_count": 192,
   "id": "1be7ec50",
   "metadata": {},
   "outputs": [],
   "source": [
    "# Salvando o modelo para teste\n",
    "\n",
    "import pickle"
   ]
  },
  {
   "cell_type": "code",
   "execution_count": 193,
   "id": "1dae8549",
   "metadata": {},
   "outputs": [],
   "source": [
    "# Definindo o nome do arquivo\n",
    "\n",
    "filename = 'modelo_lr.sav'\n",
    "pickle.dump(model_lr, open(filename, 'wb')) "
   ]
  },
  {
   "cell_type": "code",
   "execution_count": 199,
   "id": "62883092",
   "metadata": {},
   "outputs": [
    {
     "name": "stdout",
     "output_type": "stream",
     "text": [
      "[[39.73919069]]\n",
      "[[46.36114493]]\n"
     ]
    }
   ],
   "source": [
    "# Testando os dados com os dados teste que foram criados\n",
    "\n",
    "loaded_model = pickle.load(open(filename, 'rb'))\n",
    "resultado1 = loaded_model.predict(X_teste[20].reshape(1, -1))\n",
    "resultado2 = loaded_model.predict(X_teste[4].reshape(1, -1))\n",
    "print(resultado1)\n",
    "print(resultado2)"
   ]
  },
  {
   "cell_type": "markdown",
   "id": "0a7a91cf",
   "metadata": {},
   "source": [
    "## 4 Conclusões"
   ]
  },
  {
   "cell_type": "markdown",
   "id": "54c9a189",
   "metadata": {},
   "source": [
    "####  <font color='Red'>Para os parâmetros dados, nossa acurácia é de 66,7%;</font>\n",
    "####  <font color='Red'>O modelo possui algumas limitações porque são poucos dados, de modo que o ideia, neste caso, é usar o SGD Regressor;</font>\n",
    "####  <font color='Red'>São vastas as aplicabilidades neste caso, por exemplo, uma empresa de imobiliária possa analisar os valores de suas casas, previsão da quantidade de situações como conformidade de tal acontecimento, preços de determinados produtos;</font>\n",
    "####  <font color='Red'>Outros algoritmos podem ser utilizados como Random Forest ou Naive Bayes;</font>\n",
    "####  <font color='Red'>Temos uma função do tipo y = ax + b, ou seja, uma função afim, de modo que o algoritmo precisaria de mais dados para aprimorar o coefieciente angular para prever o linear;</font>\n",
    "####  <font color='Red'>Pode-se criar uma aplicação web para recolher os dados ou algum forms para o programa (que foi salvo) executar suas previsões, com base nos parâmetros utilizados</font>\n"
   ]
  },
  {
   "cell_type": "code",
   "execution_count": null,
   "id": "a6884f14",
   "metadata": {},
   "outputs": [],
   "source": []
  }
 ],
 "metadata": {
  "kernelspec": {
   "display_name": "Python 3",
   "language": "python",
   "name": "python3"
  },
  "language_info": {
   "codemirror_mode": {
    "name": "ipython",
    "version": 3
   },
   "file_extension": ".py",
   "mimetype": "text/x-python",
   "name": "python",
   "nbconvert_exporter": "python",
   "pygments_lexer": "ipython3",
   "version": "3.8.8"
  }
 },
 "nbformat": 4,
 "nbformat_minor": 5
}
